{
 "cells": [
  {
   "cell_type": "code",
   "execution_count": 2,
   "metadata": {
    "ExecuteTime": {
     "end_time": "2022-02-18T13:23:18.188163Z",
     "start_time": "2022-02-18T13:23:18.185058Z"
    }
   },
   "outputs": [],
   "source": [
    "import pandas as pd\n",
    "import numpy as np"
   ]
  },
  {
   "cell_type": "code",
   "execution_count": 4,
   "metadata": {
    "ExecuteTime": {
     "end_time": "2022-02-18T13:24:58.858647Z",
     "start_time": "2022-02-18T13:24:58.853335Z"
    }
   },
   "outputs": [
    {
     "data": {
      "text/plain": [
       "array([[0.83067011, 0.76032658, 0.63483486, 0.9782519 , 0.61408683],\n",
       "       [0.28574313, 0.66462944, 0.41636629, 0.12644309, 0.99881724],\n",
       "       [0.94764972, 0.57001592, 0.48516654, 0.98985601, 0.16241564],\n",
       "       [0.56779869, 0.38262804, 0.04249187, 0.59905875, 0.22263533],\n",
       "       [0.34977065, 0.07003834, 0.48142403, 0.64021401, 0.82772519],\n",
       "       [0.43635083, 0.50468812, 0.00499181, 0.20605846, 0.928929  ],\n",
       "       [0.69700585, 0.64692698, 0.62228119, 0.7697699 , 0.96901907]])"
      ]
     },
     "execution_count": 4,
     "metadata": {},
     "output_type": "execute_result"
    }
   ],
   "source": [
    "data = np.random.rand(7, 5)\n",
    "data"
   ]
  },
  {
   "cell_type": "code",
   "execution_count": 5,
   "metadata": {
    "ExecuteTime": {
     "end_time": "2022-02-18T13:25:10.080722Z",
     "start_time": "2022-02-18T13:25:09.720166Z"
    }
   },
   "outputs": [
    {
     "data": {
      "text/html": [
       "<div>\n",
       "<style scoped>\n",
       "    .dataframe tbody tr th:only-of-type {\n",
       "        vertical-align: middle;\n",
       "    }\n",
       "\n",
       "    .dataframe tbody tr th {\n",
       "        vertical-align: top;\n",
       "    }\n",
       "\n",
       "    .dataframe thead th {\n",
       "        text-align: right;\n",
       "    }\n",
       "</style>\n",
       "<table border=\"1\" class=\"dataframe\">\n",
       "  <thead>\n",
       "    <tr style=\"text-align: right;\">\n",
       "      <th></th>\n",
       "      <th>A</th>\n",
       "      <th>B</th>\n",
       "      <th>C</th>\n",
       "      <th>D</th>\n",
       "      <th>E</th>\n",
       "    </tr>\n",
       "  </thead>\n",
       "  <tbody>\n",
       "    <tr>\n",
       "      <th>0</th>\n",
       "      <td>0.830670</td>\n",
       "      <td>0.760327</td>\n",
       "      <td>0.634835</td>\n",
       "      <td>0.978252</td>\n",
       "      <td>0.614087</td>\n",
       "    </tr>\n",
       "    <tr>\n",
       "      <th>1</th>\n",
       "      <td>0.285743</td>\n",
       "      <td>0.664629</td>\n",
       "      <td>0.416366</td>\n",
       "      <td>0.126443</td>\n",
       "      <td>0.998817</td>\n",
       "    </tr>\n",
       "    <tr>\n",
       "      <th>2</th>\n",
       "      <td>0.947650</td>\n",
       "      <td>0.570016</td>\n",
       "      <td>0.485167</td>\n",
       "      <td>0.989856</td>\n",
       "      <td>0.162416</td>\n",
       "    </tr>\n",
       "    <tr>\n",
       "      <th>3</th>\n",
       "      <td>0.567799</td>\n",
       "      <td>0.382628</td>\n",
       "      <td>0.042492</td>\n",
       "      <td>0.599059</td>\n",
       "      <td>0.222635</td>\n",
       "    </tr>\n",
       "    <tr>\n",
       "      <th>4</th>\n",
       "      <td>0.349771</td>\n",
       "      <td>0.070038</td>\n",
       "      <td>0.481424</td>\n",
       "      <td>0.640214</td>\n",
       "      <td>0.827725</td>\n",
       "    </tr>\n",
       "    <tr>\n",
       "      <th>5</th>\n",
       "      <td>0.436351</td>\n",
       "      <td>0.504688</td>\n",
       "      <td>0.004992</td>\n",
       "      <td>0.206058</td>\n",
       "      <td>0.928929</td>\n",
       "    </tr>\n",
       "    <tr>\n",
       "      <th>6</th>\n",
       "      <td>0.697006</td>\n",
       "      <td>0.646927</td>\n",
       "      <td>0.622281</td>\n",
       "      <td>0.769770</td>\n",
       "      <td>0.969019</td>\n",
       "    </tr>\n",
       "  </tbody>\n",
       "</table>\n",
       "</div>"
      ],
      "text/plain": [
       "          A         B         C         D         E\n",
       "0  0.830670  0.760327  0.634835  0.978252  0.614087\n",
       "1  0.285743  0.664629  0.416366  0.126443  0.998817\n",
       "2  0.947650  0.570016  0.485167  0.989856  0.162416\n",
       "3  0.567799  0.382628  0.042492  0.599059  0.222635\n",
       "4  0.349771  0.070038  0.481424  0.640214  0.827725\n",
       "5  0.436351  0.504688  0.004992  0.206058  0.928929\n",
       "6  0.697006  0.646927  0.622281  0.769770  0.969019"
      ]
     },
     "execution_count": 5,
     "metadata": {},
     "output_type": "execute_result"
    }
   ],
   "source": [
    "df = pd.DataFrame(data, columns=list(\"ABCDE\"))\n",
    "df"
   ]
  },
  {
   "cell_type": "code",
   "execution_count": 6,
   "metadata": {
    "ExecuteTime": {
     "end_time": "2022-02-18T13:25:45.209066Z",
     "start_time": "2022-02-18T13:25:44.993709Z"
    }
   },
   "outputs": [
    {
     "data": {
      "text/html": [
       "<div>\n",
       "<style scoped>\n",
       "    .dataframe tbody tr th:only-of-type {\n",
       "        vertical-align: middle;\n",
       "    }\n",
       "\n",
       "    .dataframe tbody tr th {\n",
       "        vertical-align: top;\n",
       "    }\n",
       "\n",
       "    .dataframe thead th {\n",
       "        text-align: right;\n",
       "    }\n",
       "</style>\n",
       "<table border=\"1\" class=\"dataframe\">\n",
       "  <thead>\n",
       "    <tr style=\"text-align: right;\">\n",
       "      <th></th>\n",
       "      <th>A</th>\n",
       "      <th>B</th>\n",
       "      <th>C</th>\n",
       "      <th>D</th>\n",
       "      <th>E</th>\n",
       "      <th>X</th>\n",
       "    </tr>\n",
       "  </thead>\n",
       "  <tbody>\n",
       "    <tr>\n",
       "      <th>0</th>\n",
       "      <td>0.830670</td>\n",
       "      <td>0.760327</td>\n",
       "      <td>0.634835</td>\n",
       "      <td>0.978252</td>\n",
       "      <td>0.614087</td>\n",
       "      <td>foo</td>\n",
       "    </tr>\n",
       "    <tr>\n",
       "      <th>1</th>\n",
       "      <td>0.285743</td>\n",
       "      <td>0.664629</td>\n",
       "      <td>0.416366</td>\n",
       "      <td>0.126443</td>\n",
       "      <td>0.998817</td>\n",
       "      <td>bar</td>\n",
       "    </tr>\n",
       "    <tr>\n",
       "      <th>2</th>\n",
       "      <td>0.947650</td>\n",
       "      <td>0.570016</td>\n",
       "      <td>0.485167</td>\n",
       "      <td>0.989856</td>\n",
       "      <td>0.162416</td>\n",
       "      <td>foo</td>\n",
       "    </tr>\n",
       "    <tr>\n",
       "      <th>3</th>\n",
       "      <td>0.567799</td>\n",
       "      <td>0.382628</td>\n",
       "      <td>0.042492</td>\n",
       "      <td>0.599059</td>\n",
       "      <td>0.222635</td>\n",
       "      <td>bar</td>\n",
       "    </tr>\n",
       "    <tr>\n",
       "      <th>4</th>\n",
       "      <td>0.349771</td>\n",
       "      <td>0.070038</td>\n",
       "      <td>0.481424</td>\n",
       "      <td>0.640214</td>\n",
       "      <td>0.827725</td>\n",
       "      <td>foo</td>\n",
       "    </tr>\n",
       "    <tr>\n",
       "      <th>5</th>\n",
       "      <td>0.436351</td>\n",
       "      <td>0.504688</td>\n",
       "      <td>0.004992</td>\n",
       "      <td>0.206058</td>\n",
       "      <td>0.928929</td>\n",
       "      <td>foo</td>\n",
       "    </tr>\n",
       "    <tr>\n",
       "      <th>6</th>\n",
       "      <td>0.697006</td>\n",
       "      <td>0.646927</td>\n",
       "      <td>0.622281</td>\n",
       "      <td>0.769770</td>\n",
       "      <td>0.969019</td>\n",
       "      <td>bar</td>\n",
       "    </tr>\n",
       "  </tbody>\n",
       "</table>\n",
       "</div>"
      ],
      "text/plain": [
       "          A         B         C         D         E    X\n",
       "0  0.830670  0.760327  0.634835  0.978252  0.614087  foo\n",
       "1  0.285743  0.664629  0.416366  0.126443  0.998817  bar\n",
       "2  0.947650  0.570016  0.485167  0.989856  0.162416  foo\n",
       "3  0.567799  0.382628  0.042492  0.599059  0.222635  bar\n",
       "4  0.349771  0.070038  0.481424  0.640214  0.827725  foo\n",
       "5  0.436351  0.504688  0.004992  0.206058  0.928929  foo\n",
       "6  0.697006  0.646927  0.622281  0.769770  0.969019  bar"
      ]
     },
     "execution_count": 6,
     "metadata": {},
     "output_type": "execute_result"
    }
   ],
   "source": [
    "df['X'] = ['foo', 'bar', 'foo', 'bar', 'foo', 'foo', 'bar']\n",
    "df"
   ]
  },
  {
   "cell_type": "code",
   "execution_count": 10,
   "metadata": {
    "ExecuteTime": {
     "end_time": "2022-02-18T13:40:11.896202Z",
     "start_time": "2022-02-18T13:40:11.869071Z"
    }
   },
   "outputs": [
    {
     "data": {
      "text/html": [
       "<div>\n",
       "<style scoped>\n",
       "    .dataframe tbody tr th:only-of-type {\n",
       "        vertical-align: middle;\n",
       "    }\n",
       "\n",
       "    .dataframe tbody tr th {\n",
       "        vertical-align: top;\n",
       "    }\n",
       "\n",
       "    .dataframe thead th {\n",
       "        text-align: right;\n",
       "    }\n",
       "</style>\n",
       "<table border=\"1\" class=\"dataframe\">\n",
       "  <thead>\n",
       "    <tr style=\"text-align: right;\">\n",
       "      <th></th>\n",
       "      <th>A</th>\n",
       "      <th>B</th>\n",
       "      <th>C</th>\n",
       "      <th>D</th>\n",
       "      <th>E</th>\n",
       "    </tr>\n",
       "    <tr>\n",
       "      <th>X</th>\n",
       "      <th></th>\n",
       "      <th></th>\n",
       "      <th></th>\n",
       "      <th></th>\n",
       "      <th></th>\n",
       "    </tr>\n",
       "  </thead>\n",
       "  <tbody>\n",
       "    <tr>\n",
       "      <th>foo</th>\n",
       "      <td>0.830670</td>\n",
       "      <td>0.760327</td>\n",
       "      <td>0.634835</td>\n",
       "      <td>0.978252</td>\n",
       "      <td>0.614087</td>\n",
       "    </tr>\n",
       "    <tr>\n",
       "      <th>bar</th>\n",
       "      <td>0.285743</td>\n",
       "      <td>0.664629</td>\n",
       "      <td>0.416366</td>\n",
       "      <td>0.126443</td>\n",
       "      <td>0.998817</td>\n",
       "    </tr>\n",
       "    <tr>\n",
       "      <th>foo</th>\n",
       "      <td>0.947650</td>\n",
       "      <td>0.570016</td>\n",
       "      <td>0.485167</td>\n",
       "      <td>0.989856</td>\n",
       "      <td>0.162416</td>\n",
       "    </tr>\n",
       "    <tr>\n",
       "      <th>bar</th>\n",
       "      <td>0.567799</td>\n",
       "      <td>0.382628</td>\n",
       "      <td>0.042492</td>\n",
       "      <td>0.599059</td>\n",
       "      <td>0.222635</td>\n",
       "    </tr>\n",
       "    <tr>\n",
       "      <th>foo</th>\n",
       "      <td>0.349771</td>\n",
       "      <td>0.070038</td>\n",
       "      <td>0.481424</td>\n",
       "      <td>0.640214</td>\n",
       "      <td>0.827725</td>\n",
       "    </tr>\n",
       "    <tr>\n",
       "      <th>foo</th>\n",
       "      <td>0.436351</td>\n",
       "      <td>0.504688</td>\n",
       "      <td>0.004992</td>\n",
       "      <td>0.206058</td>\n",
       "      <td>0.928929</td>\n",
       "    </tr>\n",
       "    <tr>\n",
       "      <th>bar</th>\n",
       "      <td>0.697006</td>\n",
       "      <td>0.646927</td>\n",
       "      <td>0.622281</td>\n",
       "      <td>0.769770</td>\n",
       "      <td>0.969019</td>\n",
       "    </tr>\n",
       "  </tbody>\n",
       "</table>\n",
       "</div>"
      ],
      "text/plain": [
       "            A         B         C         D         E\n",
       "X                                                    \n",
       "foo  0.830670  0.760327  0.634835  0.978252  0.614087\n",
       "bar  0.285743  0.664629  0.416366  0.126443  0.998817\n",
       "foo  0.947650  0.570016  0.485167  0.989856  0.162416\n",
       "bar  0.567799  0.382628  0.042492  0.599059  0.222635\n",
       "foo  0.349771  0.070038  0.481424  0.640214  0.827725\n",
       "foo  0.436351  0.504688  0.004992  0.206058  0.928929\n",
       "bar  0.697006  0.646927  0.622281  0.769770  0.969019"
      ]
     },
     "execution_count": 10,
     "metadata": {},
     "output_type": "execute_result"
    }
   ],
   "source": [
    "df.set_index('X')"
   ]
  }
 ],
 "metadata": {
  "kernelspec": {
   "display_name": "data_science",
   "language": "python",
   "name": "data_science"
  },
  "language_info": {
   "codemirror_mode": {
    "name": "ipython",
    "version": 3
   },
   "file_extension": ".py",
   "mimetype": "text/x-python",
   "name": "python",
   "nbconvert_exporter": "python",
   "pygments_lexer": "ipython3",
   "version": "3.8.8"
  }
 },
 "nbformat": 4,
 "nbformat_minor": 2
}
